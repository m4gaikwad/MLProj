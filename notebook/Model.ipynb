{
 "cells": [
  {
   "cell_type": "code",
   "execution_count": 1,
   "id": "initial_id",
   "metadata": {
    "collapsed": true,
    "ExecuteTime": {
     "end_time": "2024-02-06T03:29:23.772177600Z",
     "start_time": "2024-02-06T03:29:20.479334600Z"
    }
   },
   "outputs": [],
   "source": [
    "import pandas as pd\n",
    "import numpy as np\n",
    "import matplotlib.pyplot as plt\n",
    "import seaborn as sns\n",
    "\n",
    "from sklearn.metrics import mean_squared_error, r2_score, mean_absolute_error\n",
    "from sklearn.neighbors import KNeighborsRegressor\n",
    "from sklearn.tree import DecisionTreeRegressor\n",
    "from sklearn.ensemble import RandomForestRegressor, AdaBoostRegressor\n",
    "from sklearn.svm import SVR\n",
    "from sklearn.linear_model import LinearRegression, Ridge, Lasso\n",
    "from sklearn.model_selection import RandomizedSearchCV\n",
    "from catboost import CatBoostRegressor\n",
    "from xgboost import  XGBRegressor\n",
    "import warnings\n",
    "warnings.filterwarnings('ignore')\n"
   ]
  },
  {
   "cell_type": "code",
   "execution_count": 5,
   "outputs": [
    {
     "data": {
      "text/plain": "   gender race_ethnicity parental_level_of_education         lunch  \\\n0  female        group B           bachelor's degree      standard   \n1  female        group C                some college      standard   \n2  female        group B             master's degree      standard   \n3    male        group A          associate's degree  free/reduced   \n4    male        group C                some college      standard   \n\n  test_preparation_course  math_score  reading_score  writing_score  \n0                    none          72             72             74  \n1               completed          69             90             88  \n2                    none          90             95             93  \n3                    none          47             57             44  \n4                    none          76             78             75  ",
      "text/html": "<div>\n<style scoped>\n    .dataframe tbody tr th:only-of-type {\n        vertical-align: middle;\n    }\n\n    .dataframe tbody tr th {\n        vertical-align: top;\n    }\n\n    .dataframe thead th {\n        text-align: right;\n    }\n</style>\n<table border=\"1\" class=\"dataframe\">\n  <thead>\n    <tr style=\"text-align: right;\">\n      <th></th>\n      <th>gender</th>\n      <th>race_ethnicity</th>\n      <th>parental_level_of_education</th>\n      <th>lunch</th>\n      <th>test_preparation_course</th>\n      <th>math_score</th>\n      <th>reading_score</th>\n      <th>writing_score</th>\n    </tr>\n  </thead>\n  <tbody>\n    <tr>\n      <th>0</th>\n      <td>female</td>\n      <td>group B</td>\n      <td>bachelor's degree</td>\n      <td>standard</td>\n      <td>none</td>\n      <td>72</td>\n      <td>72</td>\n      <td>74</td>\n    </tr>\n    <tr>\n      <th>1</th>\n      <td>female</td>\n      <td>group C</td>\n      <td>some college</td>\n      <td>standard</td>\n      <td>completed</td>\n      <td>69</td>\n      <td>90</td>\n      <td>88</td>\n    </tr>\n    <tr>\n      <th>2</th>\n      <td>female</td>\n      <td>group B</td>\n      <td>master's degree</td>\n      <td>standard</td>\n      <td>none</td>\n      <td>90</td>\n      <td>95</td>\n      <td>93</td>\n    </tr>\n    <tr>\n      <th>3</th>\n      <td>male</td>\n      <td>group A</td>\n      <td>associate's degree</td>\n      <td>free/reduced</td>\n      <td>none</td>\n      <td>47</td>\n      <td>57</td>\n      <td>44</td>\n    </tr>\n    <tr>\n      <th>4</th>\n      <td>male</td>\n      <td>group C</td>\n      <td>some college</td>\n      <td>standard</td>\n      <td>none</td>\n      <td>76</td>\n      <td>78</td>\n      <td>75</td>\n    </tr>\n  </tbody>\n</table>\n</div>"
     },
     "execution_count": 5,
     "metadata": {},
     "output_type": "execute_result"
    }
   ],
   "source": [
    "data = pd.read_csv(\"data/stud.csv\")\n",
    "data.head()"
   ],
   "metadata": {
    "collapsed": false,
    "ExecuteTime": {
     "end_time": "2024-02-06T03:33:39.616861600Z",
     "start_time": "2024-02-06T03:33:39.582118400Z"
    }
   },
   "id": "c731186d7f067384"
  },
  {
   "cell_type": "code",
   "outputs": [],
   "source": [
    "data['total_score'] = data.math_score + data.reading_score + data.writing_score"
   ],
   "metadata": {
    "collapsed": false,
    "ExecuteTime": {
     "end_time": "2024-02-06T03:33:40.748018200Z",
     "start_time": "2024-02-06T03:33:40.711080700Z"
    }
   },
   "id": "c7de174034a18c8c",
   "execution_count": 6
  },
  {
   "cell_type": "code",
   "outputs": [
    {
     "data": {
      "text/plain": "   gender race_ethnicity parental_level_of_education         lunch  \\\n0  female        group B           bachelor's degree      standard   \n1  female        group C                some college      standard   \n2  female        group B             master's degree      standard   \n3    male        group A          associate's degree  free/reduced   \n4    male        group C                some college      standard   \n\n  test_preparation_course  math_score  reading_score  writing_score  \n0                    none          72             72             74  \n1               completed          69             90             88  \n2                    none          90             95             93  \n3                    none          47             57             44  \n4                    none          76             78             75  ",
      "text/html": "<div>\n<style scoped>\n    .dataframe tbody tr th:only-of-type {\n        vertical-align: middle;\n    }\n\n    .dataframe tbody tr th {\n        vertical-align: top;\n    }\n\n    .dataframe thead th {\n        text-align: right;\n    }\n</style>\n<table border=\"1\" class=\"dataframe\">\n  <thead>\n    <tr style=\"text-align: right;\">\n      <th></th>\n      <th>gender</th>\n      <th>race_ethnicity</th>\n      <th>parental_level_of_education</th>\n      <th>lunch</th>\n      <th>test_preparation_course</th>\n      <th>math_score</th>\n      <th>reading_score</th>\n      <th>writing_score</th>\n    </tr>\n  </thead>\n  <tbody>\n    <tr>\n      <th>0</th>\n      <td>female</td>\n      <td>group B</td>\n      <td>bachelor's degree</td>\n      <td>standard</td>\n      <td>none</td>\n      <td>72</td>\n      <td>72</td>\n      <td>74</td>\n    </tr>\n    <tr>\n      <th>1</th>\n      <td>female</td>\n      <td>group C</td>\n      <td>some college</td>\n      <td>standard</td>\n      <td>completed</td>\n      <td>69</td>\n      <td>90</td>\n      <td>88</td>\n    </tr>\n    <tr>\n      <th>2</th>\n      <td>female</td>\n      <td>group B</td>\n      <td>master's degree</td>\n      <td>standard</td>\n      <td>none</td>\n      <td>90</td>\n      <td>95</td>\n      <td>93</td>\n    </tr>\n    <tr>\n      <th>3</th>\n      <td>male</td>\n      <td>group A</td>\n      <td>associate's degree</td>\n      <td>free/reduced</td>\n      <td>none</td>\n      <td>47</td>\n      <td>57</td>\n      <td>44</td>\n    </tr>\n    <tr>\n      <th>4</th>\n      <td>male</td>\n      <td>group C</td>\n      <td>some college</td>\n      <td>standard</td>\n      <td>none</td>\n      <td>76</td>\n      <td>78</td>\n      <td>75</td>\n    </tr>\n  </tbody>\n</table>\n</div>"
     },
     "execution_count": 7,
     "metadata": {},
     "output_type": "execute_result"
    }
   ],
   "source": [
    "#Independent Features\n",
    "X = data.drop(columns='total_score',axis=1)\n",
    "X.head()"
   ],
   "metadata": {
    "collapsed": false,
    "ExecuteTime": {
     "end_time": "2024-02-06T03:34:59.578399700Z",
     "start_time": "2024-02-06T03:34:59.529794400Z"
    }
   },
   "id": "46a617d4a99b11da",
   "execution_count": 7
  },
  {
   "cell_type": "code",
   "outputs": [],
   "source": [
    "y = data['total_score']"
   ],
   "metadata": {
    "collapsed": false,
    "ExecuteTime": {
     "end_time": "2024-02-06T03:35:18.627945600Z",
     "start_time": "2024-02-06T03:35:18.606830300Z"
    }
   },
   "id": "86cca2f26186b611",
   "execution_count": 8
  },
  {
   "cell_type": "code",
   "outputs": [],
   "source": [
    "num_features = X.select_dtypes(exclude=\"object\").columns\n",
    "cat_features = X.select_dtypes(include=\"object\").columns\n",
    "\n",
    "from sklearn.preprocessing import OneHotEncoder, StandardScaler\n",
    "from sklearn.compose import ColumnTransformer\n",
    "\n",
    "num_transform = StandardScaler()\n",
    "encoder = OneHotEncoder()\n",
    "\n",
    "preprocess = ColumnTransformer(\n",
    "    [\n",
    "        ('OneHotEncoder',encoder,cat_features),\n",
    "        ('StandardScaler',num_transform,num_features)\n",
    "    ]\n",
    ")\n",
    "\n"
   ],
   "metadata": {
    "collapsed": false,
    "ExecuteTime": {
     "end_time": "2024-02-06T03:42:17.876814Z",
     "start_time": "2024-02-06T03:42:17.810761600Z"
    }
   },
   "id": "7c164b8861c6a1cf",
   "execution_count": 9
  },
  {
   "cell_type": "code",
   "outputs": [],
   "source": [
    "X = preprocess.fit_transform(X)"
   ],
   "metadata": {
    "collapsed": false,
    "ExecuteTime": {
     "end_time": "2024-02-06T03:42:50.714400600Z",
     "start_time": "2024-02-06T03:42:50.683518600Z"
    }
   },
   "id": "49420dd7c7978f0a",
   "execution_count": 11
  },
  {
   "cell_type": "code",
   "outputs": [
    {
     "data": {
      "text/plain": "(1000, 20)"
     },
     "execution_count": 12,
     "metadata": {},
     "output_type": "execute_result"
    }
   ],
   "source": [
    "X.shape"
   ],
   "metadata": {
    "collapsed": false,
    "ExecuteTime": {
     "end_time": "2024-02-06T03:42:58.481952300Z",
     "start_time": "2024-02-06T03:42:58.464998200Z"
    }
   },
   "id": "12fa8e3162b0f1c0",
   "execution_count": 12
  },
  {
   "cell_type": "code",
   "outputs": [
    {
     "data": {
      "text/plain": "((800, 20), (200, 20), (800,), (200,))"
     },
     "execution_count": 13,
     "metadata": {},
     "output_type": "execute_result"
    }
   ],
   "source": [
    "from sklearn.model_selection import train_test_split\n",
    "X_train, X_test, y_train, y_test = train_test_split(X, y, test_size=0.2,random_state=42)\n",
    "X_train.shape, X_test.shape, y_train.shape, y_test.shape"
   ],
   "metadata": {
    "collapsed": false,
    "ExecuteTime": {
     "end_time": "2024-02-06T03:51:24.665791600Z",
     "start_time": "2024-02-06T03:51:24.639225300Z"
    }
   },
   "id": "fc217ec457bead61",
   "execution_count": 13
  },
  {
   "cell_type": "code",
   "outputs": [],
   "source": [
    "def evaluate_model(true, prediction):\n",
    "    mae = mean_absolute_error(true, prediction)\n",
    "    mse = mean_squared_error(true, prediction)\n",
    "    rmse = np.sqrt(mean_squared_error(true, prediction))\n",
    "    r2 = r2_score(true, prediction)\n",
    "    return mae, mse, rmse, r2\n"
   ],
   "metadata": {
    "collapsed": false,
    "ExecuteTime": {
     "end_time": "2024-02-06T03:57:23.654433200Z",
     "start_time": "2024-02-06T03:57:23.625705900Z"
    }
   },
   "id": "2f58c763effac68c",
   "execution_count": 14
  },
  {
   "cell_type": "code",
   "outputs": [],
   "source": [
    "models = {\n",
    "    \"Linear Regression\": LinearRegression(),\n",
    "    \"Lasso Regression\": Lasso(),\n",
    "    \"Ridge Regression\": Ridge(),\n",
    "    \"KNN Regression\": KNeighborsRegressor(),\n",
    "    \"Decision Tree\": DecisionTreeRegressor(),\n",
    "    \"Random Forest\": RandomForestRegressor(),\n",
    "    \"XGB Regression\": XGBRegressor(),\n",
    "    \"CatBoost\": CatBoostRegressor(verbose=False),\n",
    "    \"Adaboost\": AdaBoostRegressor()\n",
    "}\n"
   ],
   "metadata": {
    "collapsed": false,
    "ExecuteTime": {
     "end_time": "2024-02-06T04:18:12.832993400Z",
     "start_time": "2024-02-06T04:18:12.812989300Z"
    }
   },
   "id": "e1c4ca694d93c94",
   "execution_count": 22
  },
  {
   "cell_type": "code",
   "outputs": [
    {
     "name": "stdout",
     "output_type": "stream",
     "text": [
      "Linear Regression\n",
      "Model Performance on Train: \n",
      "MAE : 0.0000\n",
      "MSE : 0.0000\n",
      "RMSE : 0.0000\n",
      "R2 : 1.0000\n",
      "----------\n",
      "Model Performance on Test: \n",
      "MAE : 0.0000\n",
      "MSE : 0.0000\n",
      "RMSE : 0.0000\n",
      "R2 : 1.0000\n",
      "***********************************\n",
      "Lasso Regression\n",
      "Model Performance on Train: \n",
      "MAE : 0.8505\n",
      "MSE : 1.1330\n",
      "RMSE : 1.0644\n",
      "R2 : 0.9994\n",
      "----------\n",
      "Model Performance on Test: \n",
      "MAE : 0.8764\n",
      "MSE : 1.2409\n",
      "RMSE : 1.1139\n",
      "R2 : 0.9994\n",
      "***********************************\n",
      "Ridge Regression\n",
      "Model Performance on Train: \n",
      "MAE : 0.0195\n",
      "MSE : 0.0006\n",
      "RMSE : 0.0241\n",
      "R2 : 1.0000\n",
      "----------\n",
      "Model Performance on Test: \n",
      "MAE : 0.0201\n",
      "MSE : 0.0007\n",
      "RMSE : 0.0264\n",
      "R2 : 1.0000\n",
      "***********************************\n",
      "KNN Regression\n",
      "Model Performance on Train: \n",
      "MAE : 5.3040\n",
      "MSE : 45.8584\n",
      "RMSE : 6.7719\n",
      "R2 : 0.9745\n",
      "----------\n",
      "Model Performance on Test: \n",
      "MAE : 6.8500\n",
      "MSE : 84.8588\n",
      "RMSE : 9.2119\n",
      "R2 : 0.9560\n",
      "***********************************\n",
      "Decision Tree\n",
      "Model Performance on Train: \n",
      "MAE : 0.0000\n",
      "MSE : 0.0000\n",
      "RMSE : 0.0000\n",
      "R2 : 1.0000\n",
      "----------\n",
      "Model Performance on Test: \n",
      "MAE : 3.3900\n",
      "MSE : 30.9300\n",
      "RMSE : 5.5615\n",
      "R2 : 0.9840\n",
      "***********************************\n",
      "Random Forest\n",
      "Model Performance on Train: \n",
      "MAE : 0.5455\n",
      "MSE : 0.7624\n",
      "RMSE : 0.8732\n",
      "R2 : 0.9996\n",
      "----------\n",
      "Model Performance on Test: \n",
      "MAE : 1.5837\n",
      "MSE : 12.3355\n",
      "RMSE : 3.5122\n",
      "R2 : 0.9936\n",
      "***********************************\n",
      "XGB Regression\n",
      "Model Performance on Train: \n",
      "MAE : 0.1199\n",
      "MSE : 0.0286\n",
      "RMSE : 0.1692\n",
      "R2 : 1.0000\n",
      "----------\n",
      "Model Performance on Test: \n",
      "MAE : 1.6569\n",
      "MSE : 10.1110\n",
      "RMSE : 3.1798\n",
      "R2 : 0.9948\n",
      "***********************************\n",
      "CatBoost\n",
      "Model Performance on Train: \n",
      "MAE : 0.2558\n",
      "MSE : 0.1011\n",
      "RMSE : 0.3180\n",
      "R2 : 0.9999\n",
      "----------\n",
      "Model Performance on Test: \n",
      "MAE : 0.9921\n",
      "MSE : 12.6225\n",
      "RMSE : 3.5528\n",
      "R2 : 0.9935\n",
      "***********************************\n",
      "Adaboost\n",
      "Model Performance on Train: \n",
      "MAE : 3.9372\n",
      "MSE : 25.6078\n",
      "RMSE : 5.0604\n",
      "R2 : 0.9857\n",
      "----------\n",
      "Model Performance on Test: \n",
      "MAE : 4.5212\n",
      "MSE : 41.6123\n",
      "RMSE : 6.4508\n",
      "R2 : 0.9784\n",
      "***********************************\n"
     ]
    }
   ],
   "source": [
    "model_list = []\n",
    "r2_list = []\n",
    "\n",
    "for i in range(len(list(models))):\n",
    "    model = list(models.values())[i]\n",
    "    model.fit(X_train,y_train)\n",
    "    \n",
    "    y_train_pred = model.predict(X_train)\n",
    "    y_test_pred = model.predict(X_test)\n",
    "    \n",
    "    #Evaluate Train and Test\n",
    "    train_mae, train_mse, train_rmse, train_r2 = evaluate_model(y_train,y_train_pred)\n",
    "    \n",
    "    test_mae, test_mse, test_rmse, test_r2 = evaluate_model(y_test,y_test_pred)\n",
    "    \n",
    "    print(list(models.keys())[i])\n",
    "    model_list.append(list(models.keys())[i])\n",
    "    \n",
    "    print(\"Model Performance on Train: \")\n",
    "    print(\"MAE : {:.4f}\".format(train_mae))\n",
    "    print(\"MSE : {:.4f}\".format(train_mse))\n",
    "    print(\"RMSE : {:.4f}\".format(train_rmse))\n",
    "    print(\"R2 : {:.4f}\".format(train_r2))\n",
    "    print(\"-\"*10)\n",
    "    print(\"Model Performance on Test: \")\n",
    "    print(\"MAE : {:.4f}\".format(test_mae))\n",
    "    print(\"MSE : {:.4f}\".format(test_mse))\n",
    "    print(\"RMSE : {:.4f}\".format(test_rmse))\n",
    "    print(\"R2 : {:.4f}\".format(test_r2))\n",
    "    r2_list.append([list(models.keys())[i],test_mae,test_mse,test_rmse,test_r2])\n",
    "    print(\"*\"*35)"
   ],
   "metadata": {
    "collapsed": false,
    "ExecuteTime": {
     "end_time": "2024-02-06T04:22:56.979883900Z",
     "start_time": "2024-02-06T04:22:53.092172400Z"
    }
   },
   "id": "72b65ca8015ce2b",
   "execution_count": 29
  },
  {
   "cell_type": "code",
   "outputs": [],
   "source": [
    "model_performance = pd.DataFrame(r2_list)"
   ],
   "metadata": {
    "collapsed": false,
    "ExecuteTime": {
     "end_time": "2024-02-06T04:23:01.684617400Z",
     "start_time": "2024-02-06T04:23:01.652329Z"
    }
   },
   "id": "859ef31e31694e9b",
   "execution_count": 30
  },
  {
   "cell_type": "code",
   "outputs": [
    {
     "data": {
      "text/plain": "                   0             1             2             3         4\n0  Linear Regression  3.858247e-14  2.620280e-27  5.118867e-14  1.000000\n1   Lasso Regression  8.764329e-01  1.240880e+00  1.113948e+00  0.999357\n2   Ridge Regression  2.008990e-02  6.988866e-04  2.643646e-02  1.000000\n3     KNN Regression  6.850000e+00  8.485880e+01  9.211884e+00  0.956016\n4      Decision Tree  3.390000e+00  3.093000e+01  5.561475e+00  0.983968\n5      Random Forest  1.583650e+00  1.233548e+01  3.512190e+00  0.993606\n6     XGB Regression  1.656890e+00  1.011101e+01  3.179781e+00  0.994759\n7           CatBoost  9.921136e-01  1.262252e+01  3.552819e+00  0.993457\n8           Adaboost  4.521159e+00  4.161230e+01  6.450760e+00  0.978431",
      "text/html": "<div>\n<style scoped>\n    .dataframe tbody tr th:only-of-type {\n        vertical-align: middle;\n    }\n\n    .dataframe tbody tr th {\n        vertical-align: top;\n    }\n\n    .dataframe thead th {\n        text-align: right;\n    }\n</style>\n<table border=\"1\" class=\"dataframe\">\n  <thead>\n    <tr style=\"text-align: right;\">\n      <th></th>\n      <th>0</th>\n      <th>1</th>\n      <th>2</th>\n      <th>3</th>\n      <th>4</th>\n    </tr>\n  </thead>\n  <tbody>\n    <tr>\n      <th>0</th>\n      <td>Linear Regression</td>\n      <td>3.858247e-14</td>\n      <td>2.620280e-27</td>\n      <td>5.118867e-14</td>\n      <td>1.000000</td>\n    </tr>\n    <tr>\n      <th>1</th>\n      <td>Lasso Regression</td>\n      <td>8.764329e-01</td>\n      <td>1.240880e+00</td>\n      <td>1.113948e+00</td>\n      <td>0.999357</td>\n    </tr>\n    <tr>\n      <th>2</th>\n      <td>Ridge Regression</td>\n      <td>2.008990e-02</td>\n      <td>6.988866e-04</td>\n      <td>2.643646e-02</td>\n      <td>1.000000</td>\n    </tr>\n    <tr>\n      <th>3</th>\n      <td>KNN Regression</td>\n      <td>6.850000e+00</td>\n      <td>8.485880e+01</td>\n      <td>9.211884e+00</td>\n      <td>0.956016</td>\n    </tr>\n    <tr>\n      <th>4</th>\n      <td>Decision Tree</td>\n      <td>3.390000e+00</td>\n      <td>3.093000e+01</td>\n      <td>5.561475e+00</td>\n      <td>0.983968</td>\n    </tr>\n    <tr>\n      <th>5</th>\n      <td>Random Forest</td>\n      <td>1.583650e+00</td>\n      <td>1.233548e+01</td>\n      <td>3.512190e+00</td>\n      <td>0.993606</td>\n    </tr>\n    <tr>\n      <th>6</th>\n      <td>XGB Regression</td>\n      <td>1.656890e+00</td>\n      <td>1.011101e+01</td>\n      <td>3.179781e+00</td>\n      <td>0.994759</td>\n    </tr>\n    <tr>\n      <th>7</th>\n      <td>CatBoost</td>\n      <td>9.921136e-01</td>\n      <td>1.262252e+01</td>\n      <td>3.552819e+00</td>\n      <td>0.993457</td>\n    </tr>\n    <tr>\n      <th>8</th>\n      <td>Adaboost</td>\n      <td>4.521159e+00</td>\n      <td>4.161230e+01</td>\n      <td>6.450760e+00</td>\n      <td>0.978431</td>\n    </tr>\n  </tbody>\n</table>\n</div>"
     },
     "execution_count": 31,
     "metadata": {},
     "output_type": "execute_result"
    }
   ],
   "source": [
    "model_performance"
   ],
   "metadata": {
    "collapsed": false,
    "ExecuteTime": {
     "end_time": "2024-02-06T04:23:03.133578800Z",
     "start_time": "2024-02-06T04:23:03.091318900Z"
    }
   },
   "id": "177d8e2bd60f93c4",
   "execution_count": 31
  },
  {
   "cell_type": "code",
   "outputs": [],
   "source": [],
   "metadata": {
    "collapsed": false
   },
   "id": "9fb9e56f7f00d8ec"
  }
 ],
 "metadata": {
  "kernelspec": {
   "display_name": "Python 3",
   "language": "python",
   "name": "python3"
  },
  "language_info": {
   "codemirror_mode": {
    "name": "ipython",
    "version": 2
   },
   "file_extension": ".py",
   "mimetype": "text/x-python",
   "name": "python",
   "nbconvert_exporter": "python",
   "pygments_lexer": "ipython2",
   "version": "2.7.6"
  }
 },
 "nbformat": 4,
 "nbformat_minor": 5
}
